{
 "cells": [
  {
   "cell_type": "code",
   "execution_count": 26,
   "metadata": {},
   "outputs": [],
   "source": [
    "import pyFAI\n",
    "import numpy\n",
    "import fabio\n",
    "import collections\n",
    "import numba"
   ]
  },
  {
   "cell_type": "code",
   "execution_count": 4,
   "metadata": {},
   "outputs": [],
   "source": [
    "class MarchingSquareMPL(object):\n",
    "\n",
    "    def __init__(self, image, mask=None):\n",
    "        import matplotlib._cntr\n",
    "        self._image = image\n",
    "        self._mask = mask\n",
    "        x, y = numpy.mgrid[:self._image.shape[0], :self._image.shape[1]]\n",
    "        self._contour = matplotlib._cntr.Cntr(x, y, self._image)\n",
    "\n",
    "    _deltas = [(0.0, 0.0), (0.99, 0.0), (0.0, 0.99), (0.99, 0.99)]\n",
    "\n",
    "    def _flag_coord_over_mask(self, coord):\n",
    "        \"\"\"Flag coord over the mask as NaN\"\"\"\n",
    "        for dx, dy in self._deltas:\n",
    "            if self._mask[int(coord[0] + dx), int(coord[1] + dy)] != 0:\n",
    "                return float(\"nan\"), float(\"nan\")\n",
    "        return coord\n",
    "\n",
    "    def iso_contour(self, value):\n",
    "        res = self._contour.trace(value)\n",
    "        nseg = len(res) // 2\n",
    "        polylines, _codes = res[:nseg], res[nseg:]\n",
    "\n",
    "        result = []\n",
    "        for polyline in polylines:\n",
    "            if self._mask is not None:\n",
    "                polyline = map(self._flag_coord_over_mask, polyline)\n",
    "                polyline = list(polyline)\n",
    "                polyline = numpy.array(polyline)\n",
    "            # swap x and y columns\n",
    "            polyline = numpy.array([polyline[:,1], polyline[:,0]]).T\n",
    "            result.append(polyline)\n",
    "        return result"
   ]
  },
  {
   "cell_type": "code",
   "execution_count": 58,
   "metadata": {},
   "outputs": [],
   "source": [
    "class MarchingSquarePyFai(object):\n",
    "\n",
    "    def __init__(self, image, mask=None):\n",
    "        import pyFAI.ext.marchingsquares\n",
    "        self._image = image\n",
    "        self._mask = mask\n",
    "\n",
    "    def iso_contour(self, value):\n",
    "        import pyFAI.ext.marchingsquares\n",
    "        points = pyFAI.ext.marchingsquares.isocontour(self._image, value, sorted=False).round().astype(int)\n",
    "        if self._mask is not None:\n",
    "            # points = numpy.array([[i[1], i[0]] for i in points if not mask[i[1], i[0]]])\n",
    "            points = points[numpy.logical_not(self._mask[points.T[1], points.T[0]])]\n",
    "        if len(points) == 0:\n",
    "            return []\n",
    "        points = numpy.unique(points, axis=0)\n",
    "        polylines = self._extract_polylines(points)\n",
    "        return polylines\n",
    "\n",
    "    @staticmethod\n",
    "    def _is_same(p1, p2):\n",
    "        return p1[0] == p2[0] and p1[1] == p2[1]\n",
    "\n",
    "    @staticmethod\n",
    "    def _is_segment(p1, p2):\n",
    "        dx, dy = abs(p1[0] - p2[0]), abs(p1[1] - p2[1])\n",
    "        return dx <= 1 and dy <= 1\n",
    "\n",
    "    @staticmethod\n",
    "    def _dist(p1, p2):\n",
    "        dx, dy = abs(p1[0] - p2[0]), abs(p1[1] - p2[1])\n",
    "        return dx + dy\n",
    "\n",
    "    @classmethod\n",
    "    def _extract_polylines(cls, points):\n",
    "        \"\"\"Incremental algorythm to extract a set of polylines from an unsorted\n",
    "        set of coordinates.\n",
    "\n",
    "        A segment have defined as 2 point closer than 2\n",
    "        \"\"\"\n",
    "        polys = []\n",
    "\n",
    "        for p in points:\n",
    "            found = []\n",
    "            for poly_id, poly in enumerate(polys):\n",
    "                begin, end, polyline = poly\n",
    "                if cls._is_same(p, begin) or cls._is_same(p, end):\n",
    "                    assert(False)\n",
    "                elif cls._is_segment(p, begin):\n",
    "                    description = (poly_id, 0)\n",
    "                    if cls._dist(p, begin) == 1:\n",
    "                        found.insert(0, description)\n",
    "                    else:\n",
    "                        found.append(description)\n",
    "                elif cls._is_segment(p, end):\n",
    "                    description = (poly_id, 1)\n",
    "                    if cls._dist(p, end) == 1:\n",
    "                        found.insert(0, description)\n",
    "                    else:\n",
    "                        found.append(description)\n",
    "\n",
    "            if len(found) == 0:\n",
    "                # That's a new polygon\n",
    "                begin, end, polyline = p, p, [p]\n",
    "                polys.append([begin, end, polyline])\n",
    "            elif len(found) == 1:\n",
    "                # Incrase a polygon\n",
    "                poly_id, loc = found[0]\n",
    "                poly = polys[poly_id]\n",
    "                if loc == 0:\n",
    "                    # incrate at begining\n",
    "                    poly[0] = p\n",
    "                    poly[2].insert(0, p)\n",
    "                elif loc == 1:\n",
    "                    # incrate at end\n",
    "                    poly[1] = p\n",
    "                    poly[2].append(p)\n",
    "                else:\n",
    "                    assert(False)\n",
    "            elif len(found) >= 2:\n",
    "                # merge 2 polygones\n",
    "                poly1_id, loc1 = found[0]\n",
    "                poly2_id, loc2 = found[1]\n",
    "                poly1 = polys[poly1_id][2]\n",
    "                poly2 = polys[poly2_id][2]\n",
    "\n",
    "                if loc1 == 0:\n",
    "                    poly1.reverse()\n",
    "                elif loc1 == 1:\n",
    "                    pass\n",
    "                else:\n",
    "                    assert(False)\n",
    "\n",
    "                if loc2 == 0:\n",
    "                    pass\n",
    "                elif loc2 == 1:\n",
    "                    poly2.reverse()\n",
    "                else:\n",
    "                    assert(False)\n",
    "\n",
    "                if poly2_id > poly1_id:\n",
    "                    polys.pop(poly2_id)\n",
    "                    polys.pop(poly1_id)\n",
    "                else:\n",
    "                    polys.pop(poly1_id)\n",
    "                    polys.pop(poly2_id)\n",
    "\n",
    "                polyline = []\n",
    "                polyline.extend(poly1)\n",
    "                polyline.append(p)\n",
    "                polyline.extend(poly2)\n",
    "                begin, end = polyline[0], polyline[-1]\n",
    "                polys.append([begin, end, polyline])\n",
    "            else:\n",
    "                assert(False)\n",
    "\n",
    "        result = []\n",
    "        for poly in polys:\n",
    "            result.append(numpy.array(poly[2], dtype=numpy.int))\n",
    "\n",
    "        return result"
   ]
  },
  {
   "cell_type": "code",
   "execution_count": 64,
   "metadata": {},
   "outputs": [],
   "source": [
    "class MarchingSquarePyFaiNumba(object):\n",
    "\n",
    "    def __init__(self, image, mask=None):\n",
    "        import pyFAI.ext.marchingsquares\n",
    "        self._image = image\n",
    "        self._mask = mask\n",
    "\n",
    "    def iso_contour(self, value):\n",
    "        import pyFAI.ext.marchingsquares\n",
    "        points = pyFAI.ext.marchingsquares.isocontour(self._image, value, sorted=False).round().astype(int)\n",
    "        if self._mask is not None:\n",
    "            # points = numpy.array([[i[1], i[0]] for i in points if not mask[i[1], i[0]]])\n",
    "            points = points[numpy.logical_not(self._mask[points.T[1], points.T[0]])]\n",
    "        if len(points) == 0:\n",
    "            return []\n",
    "        points = numpy.unique(points, axis=0)\n",
    "        polylines = _extract_polylines(points)\n",
    "        return polylines\n",
    "\n",
    "@numba.jit\n",
    "def _dist2(p1, p2):\n",
    "    dx, dy = abs(p1[0] - p2[0]), abs(p1[1] - p2[1])\n",
    "    return dx * dx + dy * dy\n",
    "\n",
    "@numba.jit\n",
    "def _extract_polylines(points):\n",
    "    \"\"\"Incremental algorythm to extract a set of polylines from an unsorted\n",
    "    set of coordinates.\n",
    "\n",
    "    A segment have defined as 2 point closer than 2\n",
    "    \"\"\"\n",
    "    polys = []\n",
    "\n",
    "    for p in points:\n",
    "        found = []\n",
    "        for poly_id, poly in enumerate(polys):\n",
    "            begin, end, polyline = poly\n",
    "            d1 = _dist2(p, begin)\n",
    "            d2 = _dist2(p, end)\n",
    "            if d1 == 0 or d2 == 0:\n",
    "                assert(False)\n",
    "            elif d1 <= 2:\n",
    "                description = (poly_id, 0)\n",
    "                if d1 <= 1:\n",
    "                    found.insert(0, description)\n",
    "                else:\n",
    "                    found.append(description)\n",
    "            elif d2 <= 2:\n",
    "                description = (poly_id, 1)\n",
    "                if d2 <= 1:\n",
    "                    found.insert(0, description)\n",
    "                else:\n",
    "                    found.append(description)\n",
    "\n",
    "        if len(found) == 0:\n",
    "            # That's a new polygon\n",
    "            begin, end, polyline = p, p, [p]\n",
    "            polys.append([begin, end, polyline])\n",
    "        elif len(found) == 1:\n",
    "            # Incrase a polygon\n",
    "            poly_id, loc = found[0]\n",
    "            poly = polys[poly_id]\n",
    "            if loc == 0:\n",
    "                # incrate at begining\n",
    "                poly[0] = p\n",
    "                poly[2].insert(0, p)\n",
    "            elif loc == 1:\n",
    "                # incrate at end\n",
    "                poly[1] = p\n",
    "                poly[2].append(p)\n",
    "            else:\n",
    "                assert(False)\n",
    "        elif len(found) >= 2:\n",
    "            # merge 2 polygones\n",
    "            poly1_id, loc1 = found[0]\n",
    "            poly2_id, loc2 = found[1]\n",
    "            poly1 = polys[poly1_id][2]\n",
    "            poly2 = polys[poly2_id][2]\n",
    "\n",
    "            if loc1 == 0:\n",
    "                poly1.reverse()\n",
    "            elif loc1 == 1:\n",
    "                pass\n",
    "            else:\n",
    "                assert(False)\n",
    "\n",
    "            if loc2 == 0:\n",
    "                pass\n",
    "            elif loc2 == 1:\n",
    "                poly2.reverse()\n",
    "            else:\n",
    "                assert(False)\n",
    "\n",
    "            if poly2_id > poly1_id:\n",
    "                polys.pop(poly2_id)\n",
    "                polys.pop(poly1_id)\n",
    "            else:\n",
    "                polys.pop(poly1_id)\n",
    "                polys.pop(poly2_id)\n",
    "\n",
    "            polyline = []\n",
    "            polyline.extend(poly1)\n",
    "            polyline.append(p)\n",
    "            polyline.extend(poly2)\n",
    "            begin, end = polyline[0], polyline[-1]\n",
    "            polys.append([begin, end, polyline])\n",
    "        else:\n",
    "            assert(False)\n",
    "\n",
    "    result = []\n",
    "    for poly in polys:\n",
    "        result.append(numpy.array(poly[2], dtype=numpy.int))\n",
    "\n",
    "    return result"
   ]
  },
  {
   "cell_type": "code",
   "execution_count": 38,
   "metadata": {},
   "outputs": [],
   "source": [
    "Problem = collections.namedtuple(\"Problem\", [\"image\", \"mask\", \"values\"])"
   ]
  },
  {
   "cell_type": "code",
   "execution_count": 44,
   "metadata": {},
   "outputs": [],
   "source": [
    "def create_problem1():\n",
    "    ROOT = \"/workspace/valls/pyfai.git/_own/iso\"\n",
    "    data = fabio.open(ROOT + \"/data.tif\").data\n",
    "    mask = fabio.open(ROOT + \"/mask.tif\").data\n",
    "    mask = mask != 0\n",
    "    values = range(10, 1000, int(240/6))[0:7]\n",
    "    return Problem(data, mask, values)\n",
    "\n",
    "problem1 = create_problem1()"
   ]
  },
  {
   "cell_type": "code",
   "execution_count": 45,
   "metadata": {},
   "outputs": [
    {
     "name": "stdout",
     "output_type": "stream",
     "text": [
      "10 loops, best of 3: 39.9 ms per loop\n"
     ]
    }
   ],
   "source": [
    "marching_square = MarchingSquareMPL(problem1.image, problem1.mask)\n",
    "%timeit marching_square.iso_contour(140)"
   ]
  },
  {
   "cell_type": "code",
   "execution_count": 46,
   "metadata": {},
   "outputs": [
    {
     "name": "stdout",
     "output_type": "stream",
     "text": [
      "10 loops, best of 3: 45.3 ms per loop\n"
     ]
    }
   ],
   "source": [
    "marching_square = MarchingSquarePyFai(problem1.image, problem1.mask)\n",
    "%timeit marching_square.iso_contour(140)"
   ]
  },
  {
   "cell_type": "code",
   "execution_count": 65,
   "metadata": {},
   "outputs": [
    {
     "name": "stdout",
     "output_type": "stream",
     "text": [
      "The slowest run took 44.32 times longer than the fastest. This could mean that an intermediate result is being cached.\n",
      "1 loop, best of 3: 26.8 ms per loop\n"
     ]
    }
   ],
   "source": [
    "marching_square = MarchingSquarePyFaiNumba(problem1.image, problem1.mask)\n",
    "%timeit marching_square.iso_contour(140)"
   ]
  },
  {
   "cell_type": "code",
   "execution_count": 50,
   "metadata": {},
   "outputs": [],
   "source": [
    "def create_problem2():\n",
    "    ROOT = \"/workspace/valls/pyfai.git/_own/iso\"\n",
    "    data = numpy.load(ROOT + \"/wos_tth.npz\")\n",
    "    image = data[\"tth\"]\n",
    "    mask = fabio.open(ROOT + \"/wos_mask.edf\").data\n",
    "    mask = mask != 0\n",
    "    values = data[\"angles\"]\n",
    "    return Problem(image, mask, values)\n",
    "\n",
    "problem2 = create_problem2()"
   ]
  },
  {
   "cell_type": "code",
   "execution_count": 60,
   "metadata": {},
   "outputs": [
    {
     "name": "stdout",
     "output_type": "stream",
     "text": [
      "1 loop, best of 3: 377 ms per loop\n"
     ]
    }
   ],
   "source": [
    "marching_square = MarchingSquareMPL(problem2.image, problem2.mask)\n",
    "%timeit [marching_square.iso_contour(angle) for angle in problem2.values]"
   ]
  },
  {
   "cell_type": "code",
   "execution_count": 62,
   "metadata": {},
   "outputs": [
    {
     "name": "stdout",
     "output_type": "stream",
     "text": [
      "1 loop, best of 3: 849 ms per loop\n"
     ]
    }
   ],
   "source": [
    "marching_square = MarchingSquarePyFai(problem2.image, problem2.mask)\n",
    "%timeit [marching_square.iso_contour(a) for a in problem2.values]"
   ]
  },
  {
   "cell_type": "code",
   "execution_count": 66,
   "metadata": {},
   "outputs": [
    {
     "name": "stdout",
     "output_type": "stream",
     "text": [
      "1 loop, best of 3: 441 ms per loop\n"
     ]
    }
   ],
   "source": [
    "marching_square = MarchingSquarePyFaiNumba(problem2.image, problem2.mask)\n",
    "%timeit [marching_square.iso_contour(a) for a in problem2.values]"
   ]
  },
  {
   "cell_type": "code",
   "execution_count": 1,
   "metadata": {},
   "outputs": [],
   "source": []
  }
 ],
 "metadata": {
  "kernelspec": {
   "display_name": "Python 3",
   "language": "python",
   "name": "python3"
  },
  "language_info": {
   "codemirror_mode": {
    "name": "ipython",
    "version": 3
   },
   "file_extension": ".py",
   "mimetype": "text/x-python",
   "name": "python",
   "nbconvert_exporter": "python",
   "pygments_lexer": "ipython3",
   "version": "3.5.2"
  }
 },
 "nbformat": 4,
 "nbformat_minor": 2
}
