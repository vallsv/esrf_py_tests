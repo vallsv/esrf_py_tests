{
 "cells": [
  {
   "cell_type": "code",
   "execution_count": 2,
   "metadata": {},
   "outputs": [],
   "source": [
    "# Copyright: European Synchrotron Radiation Facility, Grenoble, France\n",
    "# Author: V. Valls\n",
    "# License: MIT"
   ]
  },
  {
   "cell_type": "code",
   "execution_count": 3,
   "metadata": {},
   "outputs": [],
   "source": [
    "import numpy"
   ]
  },
  {
   "cell_type": "code",
   "execution_count": 12,
   "metadata": {},
   "outputs": [],
   "source": [
    "def get_minmax_block(array, block_size):\n",
    "    \"\"\"Python code to compute min/max cache per block of an image\"\"\"\n",
    "    if block_size == 0:\n",
    "        return None\n",
    "    size = numpy.array(array.shape)\n",
    "    size = size // block_size + (size % block_size > 0)\n",
    "    min_per_block = numpy.empty(size)\n",
    "    max_per_block = numpy.empty(size)\n",
    "    for y in range(size[1]):\n",
    "        yend = (y + 1) * block_size\n",
    "        if y + 1 == size[1]:\n",
    "            yy = slice(y * block_size, array.shape[1])\n",
    "        else:\n",
    "            yy = slice(y * block_size, yend)\n",
    "        for x in range(size[0]):\n",
    "            xend = (x + 1) * block_size\n",
    "            if xend > size[0]:\n",
    "                xx = slice(x * block_size, array.shape[0])\n",
    "            else:\n",
    "                xx = slice(x * block_size, xend)\n",
    "            min_per_block[x, y] = array[xx, yy].min()\n",
    "            max_per_block[x, y] = array[xx, yy].max()\n",
    "    return (min_per_block, max_per_block, block_size)"
   ]
  },
  {
   "cell_type": "code",
   "execution_count": 19,
   "metadata": {},
   "outputs": [
    {
     "name": "stdout",
     "output_type": "stream",
     "text": [
      "Input data\n",
      "[[ 0  1  2  3]\n",
      " [ 4  5  6  7]\n",
      " [ 8  9 10 11]\n",
      " [12 13 14 15]]\n"
     ]
    }
   ],
   "source": [
    "a = numpy.arange(4*4)\n",
    "a.shape = 4, 4\n",
    "print(\"Input data\")\n",
    "print(a)\n",
    "r = get_minmax_block(a, 2)\n",
    "expected_min = numpy.array([[0, 2], [8, 10]])\n",
    "expected_max = numpy.array([[5, 7], [13, 15]])\n",
    "assert(numpy.allclose(r[0], expected_min))\n",
    "assert(numpy.allclose(r[1], expected_max))"
   ]
  },
  {
   "cell_type": "code",
   "execution_count": 38,
   "metadata": {},
   "outputs": [
    {
     "data": {
      "image/png": "[encoded data removed]",
      "text/plain": [
       "<Figure size 432x288 with 17 Axes>"
      ]
     },
     "metadata": {},
     "output_type": "display_data"
    }
   ],
   "source": [
    "import os\n",
    "import collections\n",
    "\n",
    "ROOT = os.getcwd()\n",
    "Problem = collections.namedtuple(\"Problem\", [\"image\", \"mask\", \"values\", \"complexity\"])\n",
    "\n",
    "def create_id22_17_problem():\n",
    "    # Problem containing an image of 4096x4096 with 17 rings\n",
    "    data = numpy.load(ROOT + \"/data/id22_17.npz\")\n",
    "    image = data[\"tth\"]\n",
    "    mask = (data[\"mask\"] != 0)\n",
    "    values = data[\"angles\"]\n",
    "    return Problem(image, mask, values, None)\n",
    "\n",
    "problem = create_id22_17_problem()\n",
    "minmax = get_minmax_block(problem.image, 256)\n",
    "\n",
    "from matplotlib import pyplot\n",
    "pyplot.figure()\n",
    "for i, v in enumerate(problem.values):\n",
    "    pyplot.subplot(len(problem.values) // 5 + 1, 5, i + 1)\n",
    "    result = numpy.logical_and(minmax[0] < v, v < minmax[1])\n",
    "    result = numpy.array(result, dtype=numpy.int8)\n",
    "    pyplot.imshow(result)\n",
    "    pyplot.title(\"%f\" % v)\n",
    "pyplot.show()"
   ]
  }
 ],
 "metadata": {
  "kernelspec": {
   "display_name": "Python 3",
   "language": "python",
   "name": "python3"
  },
  "language_info": {
   "codemirror_mode": {
    "name": "ipython",
    "version": 3
   },
   "file_extension": ".py",
   "mimetype": "text/x-python",
   "name": "python",
   "nbconvert_exporter": "python",
   "pygments_lexer": "ipython3",
   "version": "3.5.2"
  }
 },
 "nbformat": 4,
 "nbformat_minor": 2
}
